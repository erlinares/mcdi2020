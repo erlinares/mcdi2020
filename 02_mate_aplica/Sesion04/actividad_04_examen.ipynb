{
 "cells": [
  {
   "cell_type": "markdown",
   "metadata": {},
   "source": [
    "### Examen de ecucaciones diferenciales ordinarias"
   ]
  },
  {
   "cell_type": "markdown",
   "metadata": {},
   "source": [
    "#### Ejercicio 5\n",
    "\n",
    "$y^{'} + 8(y) = -9sin (-4x)$\n",
    "\n",
    "x0 = 0, y0 = -3,  y(0.0421)\n",
    "\n",
    "$y^{'} + 8(y) + 9sin (-4x)= 0$"
   ]
  },
  {
   "cell_type": "code",
   "execution_count": 19,
   "metadata": {},
   "outputs": [
    {
     "data": {
      "text/html": [
       "<html><script type=\"math/tex; mode=display\">\\newcommand{\\Bold}[1]{\\mathbf{#1}}9 \\, \\sin\\left(-4 \\, x\\right) + 8 \\, y\\left(x\\right) + \\frac{\\partial}{\\partial x}y\\left(x\\right) = 0</script></html>"
      ],
      "text/plain": [
       "9*sin(-4*x) + 8*y(x) + diff(y(x), x) == 0"
      ]
     },
     "metadata": {},
     "output_type": "display_data"
    }
   ],
   "source": [
    "var('x')  #variable independiente\n",
    "y = function('y')(x) #variable dependiente\n",
    "\n",
    "ode = y.diff(x) + 8*y +9*sin(-4*x)==0   \n",
    "show(ode)"
   ]
  },
  {
   "cell_type": "code",
   "execution_count": 20,
   "metadata": {},
   "outputs": [
    {
     "data": {
      "text/html": [
       "<html><script type=\"math/tex; mode=display\">\\newcommand{\\Bold}[1]{\\mathbf{#1}}-\\frac{3}{20} \\, {\\left(3 \\, \\cos\\left(4 \\, x\\right) e^{\\left(8 \\, x\\right)} - 6 \\, e^{\\left(8 \\, x\\right)} \\sin\\left(4 \\, x\\right) + 17\\right)} e^{\\left(-8 \\, x\\right)}</script></html>"
      ],
      "text/plain": [
       "-3/20*(3*cos(4*x)*e^(8*x) - 6*e^(8*x)*sin(4*x) + 17)*e^(-8*x)"
      ]
     },
     "metadata": {},
     "output_type": "display_data"
    }
   ],
   "source": [
    "x0 = 0\n",
    "y0 = -3\n",
    "\n",
    "f = desolve (ode, y, ics = [x0, y0])\n",
    "show(f)"
   ]
  },
  {
   "cell_type": "code",
   "execution_count": 22,
   "metadata": {},
   "outputs": [
    {
     "data": {
      "text/plain": [
       "-2.11362138252055"
      ]
     },
     "execution_count": 22,
     "metadata": {},
     "output_type": "execute_result"
    }
   ],
   "source": [
    "x = 0.0421\n",
    "y = -3/20*(3*cos(4*x)*e^(8*x) - 6*e^(8*x)*sin(4*x) + 17)*e^(-8*x)\n",
    "y"
   ]
  },
  {
   "cell_type": "markdown",
   "metadata": {},
   "source": [
    "#### Ejercicio 4\n",
    "\n",
    "$y^{'} + (6x - 6)y = -552x + 552 $\n",
    "\n",
    "x0 = 7, y0 = 12,  y(7.7227)\n",
    "\n",
    "$y^{'} + (6x - 6)y +552x - 552 = 0 $"
   ]
  },
  {
   "cell_type": "code",
   "execution_count": 14,
   "metadata": {},
   "outputs": [
    {
     "data": {
      "text/html": [
       "<html><script type=\"math/tex; mode=display\">\\newcommand{\\Bold}[1]{\\mathbf{#1}}6 \\, {\\left(x - 1\\right)} y\\left(x\\right) + 552 \\, x + \\frac{\\partial}{\\partial x}y\\left(x\\right) - 552 = 0</script></html>"
      ],
      "text/plain": [
       "6*(x - 1)*y(x) + 552*x + diff(y(x), x) - 552 == 0"
      ]
     },
     "metadata": {},
     "output_type": "display_data"
    }
   ],
   "source": [
    "var('x')  #variable independiente\n",
    "y = function('y')(x) #variable dependiente\n",
    "\n",
    "ode = y.diff(x) + (6*x -6)*y +552*x -552==0   \n",
    "show(ode)"
   ]
  },
  {
   "cell_type": "code",
   "execution_count": 15,
   "metadata": {},
   "outputs": [
    {
     "data": {
      "text/html": [
       "<html><script type=\"math/tex; mode=display\">\\newcommand{\\Bold}[1]{\\mathbf{#1}}-4 \\, {\\left(23 \\, e^{\\left(3 \\, x^{2}\\right)} - 20 \\, e^{\\left(6 \\, x + 105\\right)}\\right)} e^{\\left(-3 \\, x^{2}\\right)}</script></html>"
      ],
      "text/plain": [
       "-4*(23*e^(3*x^2) - 20*e^(6*x + 105))*e^(-3*x^2)"
      ]
     },
     "metadata": {},
     "output_type": "display_data"
    }
   ],
   "source": [
    "x0 = 7\n",
    "y0 = -12\n",
    "\n",
    "f = desolve (ode, y, ics = [x0, y0])\n",
    "show(f)"
   ]
  },
  {
   "cell_type": "code",
   "execution_count": 18,
   "metadata": {},
   "outputs": [
    {
     "data": {
      "text/plain": [
       "-91.9999999999162"
      ]
     },
     "execution_count": 18,
     "metadata": {},
     "output_type": "execute_result"
    }
   ],
   "source": [
    "x = 7.7227\n",
    "y = -4*(23*e^(3*x^2) - 20*e^(6*x + 105))*e^(-3*x^2)\n",
    "y"
   ]
  },
  {
   "cell_type": "markdown",
   "metadata": {},
   "source": [
    "#### Ejercicio 3\n",
    "\n",
    "$\\frac{dy}{dx} = -19(y - 62)y$\n",
    "\n",
    "$x_0 = 66$,     $y_0=\\frac{62.0000000000000}{28 \\, e^{\\left(-77748\\right)} + 1}$,  y(90)\n"
   ]
  },
  {
   "cell_type": "code",
   "execution_count": 7,
   "metadata": {},
   "outputs": [
    {
     "data": {
      "text/html": [
       "<html><script type=\"math/tex; mode=display\">\\newcommand{\\Bold}[1]{\\mathbf{#1}}\\frac{\\partial}{\\partial x}y\\left(x\\right) = -19 \\, {\\left(y\\left(x\\right) - 62\\right)} y\\left(x\\right)</script></html>"
      ],
      "text/plain": [
       "diff(y(x), x) == -19*(y(x) - 62)*y(x)"
      ]
     },
     "metadata": {},
     "output_type": "display_data"
    }
   ],
   "source": [
    "var('x')  #variable independiente\n",
    "y = function('y')(x) #variable dependiente\n",
    "\n",
    "ode = y.diff(x) == -19*(y -62)*y\n",
    "show(ode)"
   ]
  },
  {
   "cell_type": "code",
   "execution_count": 8,
   "metadata": {},
   "outputs": [
    {
     "data": {
      "text/html": [
       "<html><script type=\"math/tex; mode=display\">\\newcommand{\\Bold}[1]{\\mathbf{#1}}-\\frac{1}{1178} \\, \\log\\left(y\\left(x\\right) - 62\\right) + \\frac{1}{1178} \\, \\log\\left(y\\left(x\\right)\\right) = C + x</script></html>"
      ],
      "text/plain": [
       "-1/1178*log(y(x) - 62) + 1/1178*log(y(x)) == _C + x"
      ]
     },
     "metadata": {},
     "output_type": "display_data"
    }
   ],
   "source": [
    "#x0 = 66\n",
    "#y0 = 62.0000000000000 / (28*e^(-77748) +1)\n",
    "\n",
    "f = desolve (ode, y)\n",
    "show(f)"
   ]
  },
  {
   "cell_type": "code",
   "execution_count": 10,
   "metadata": {},
   "outputs": [
    {
     "data": {
      "text/plain": [
       "511368"
      ]
     },
     "execution_count": 10,
     "metadata": {},
     "output_type": "execute_result"
    }
   ],
   "source": [
    "k0 = 1178\n",
    "k1 = 7748\n",
    "k1 * x0"
   ]
  },
  {
   "cell_type": "code",
   "execution_count": 16,
   "metadata": {},
   "outputs": [
    {
     "data": {
      "text/html": [
       "<html><script type=\"math/tex; mode=display\">\\newcommand{\\Bold}[1]{\\mathbf{#1}}\\frac{62.0000000000000}{28 \\, e^{\\left(-7748 \\, x\\right)} + 1}</script></html>"
      ],
      "text/plain": [
       "62.0000000000000/(28*e^(-7748*x) + 1)"
      ]
     },
     "metadata": {},
     "output_type": "display_data"
    }
   ],
   "source": [
    "f = 62.0 / ( 28*e^(-k1*x)+1)\n",
    "show(f)"
   ]
  },
  {
   "cell_type": "code",
   "execution_count": 17,
   "metadata": {},
   "outputs": [
    {
     "data": {
      "text/plain": [
       "62.0000000000000"
      ]
     },
     "execution_count": 17,
     "metadata": {},
     "output_type": "execute_result"
    }
   ],
   "source": [
    "f(90).n()"
   ]
  },
  {
   "cell_type": "markdown",
   "metadata": {},
   "source": [
    "#### Ejercicio 2\n",
    "\n",
    "$\\frac{ dy }{ dx }= 3 \\, {\\left(3 \\, x - 1\\right)}y $\n",
    "\n",
    "$x_0=-7,y_0=e^{\\frac{489}{2}}$\n",
    "\n",
    "y(5)=\n",
    "\n",
    "$y^{'} - 3 \\, {\\left(3 \\, x - 1\\right)}y = 0$"
   ]
  },
  {
   "cell_type": "code",
   "execution_count": 151,
   "metadata": {},
   "outputs": [
    {
     "data": {
      "text/html": [
       "<html><script type=\"math/tex; mode=display\">\\newcommand{\\Bold}[1]{\\mathbf{#1}}\\frac{\\partial}{\\partial x}y\\left(x\\right) = 3 \\, {\\left(3 \\, x - 1\\right)} y\\left(x\\right)</script></html>"
      ],
      "text/plain": [
       "diff(y(x), x) == 3*(3*x - 1)*y(x)"
      ]
     },
     "metadata": {},
     "output_type": "display_data"
    }
   ],
   "source": [
    "var('x')  #variable independiente\n",
    "y = function('y')(x) #variable dependiente\n",
    "\n",
    "ode = y.diff(x) == 3*(3*x - 1)*y ==0   \n",
    "show(ode)"
   ]
  },
  {
   "cell_type": "code",
   "execution_count": 152,
   "metadata": {},
   "outputs": [
    {
     "data": {
      "text/html": [
       "<html><script type=\"math/tex; mode=display\">\\newcommand{\\Bold}[1]{\\mathbf{#1}}e^{\\left(\\frac{9}{2} \\, x^{2} - 3 \\, x + 3\\right)}</script></html>"
      ],
      "text/plain": [
       "e^(9/2*x^2 - 3*x + 3)"
      ]
     },
     "metadata": {},
     "output_type": "display_data"
    }
   ],
   "source": [
    "x0 = -7\n",
    "y0 = e^(489 / 2)\n",
    "\n",
    "f = desolve (ode, y, ics = [x0, y0])\n",
    "show(f)"
   ]
  },
  {
   "cell_type": "code",
   "execution_count": 153,
   "metadata": {},
   "outputs": [
    {
     "data": {
      "text/plain": [
       "e^(201/2)"
      ]
     },
     "execution_count": 153,
     "metadata": {},
     "output_type": "execute_result"
    }
   ],
   "source": [
    "x = 5\n",
    "y = e^(9/2*x^2 - 3*x + 3)\n",
    "y"
   ]
  },
  {
   "cell_type": "code",
   "execution_count": 79,
   "metadata": {},
   "outputs": [],
   "source": [
    "# se calcula en wolfram-Alpha\n",
    "# https://www.wolframalpha.com/input/?i=e%5E%28201%2F2%29\n",
    "# se obtiene 4.4319559098458954160107061979564816895899481870630649 × 10^43\n",
    "# y(5)=4.43195590984589541601070619795648168958994818706306490748769e43"
   ]
  },
  {
   "cell_type": "markdown",
   "metadata": {},
   "source": [
    "#### Ejercicio 1\n",
    "\n",
    "Encuentre la solución de $ g(x,y)=0$\n",
    "\n",
    "$\\frac{dy}{dx} = - \\frac{6x-1}{2(5y+2)} $\n",
    "\n",
    "con condición inicial $x_0=-3,y_0=-6$\n",
    "\n",
    "Normalice su respuesta de manera que $g(-6,-10)=1$\n",
    "\n",
    "Verifique su respuesta evaluando en el punto dado $g(-4,4)=$"
   ]
  },
  {
   "cell_type": "code",
   "execution_count": 83,
   "metadata": {},
   "outputs": [
    {
     "data": {
      "text/html": [
       "<html><script type=\"math/tex; mode=display\">\\newcommand{\\Bold}[1]{\\mathbf{#1}}\\frac{\\partial}{\\partial x}y\\left(x\\right) = -\\frac{6 \\, x - 1}{2 \\, {\\left(5 \\, y\\left(x\\right) + 2\\right)}}</script></html>"
      ],
      "text/plain": [
       "diff(y(x), x) == -1/2*(6*x - 1)/(5*y(x) + 2)"
      ]
     },
     "metadata": {},
     "output_type": "display_data"
    }
   ],
   "source": [
    "var('x')  #variable independiente\n",
    "y = function('y')(x) #variable dependiente\n",
    "\n",
    "ode = y.diff(x)== - (6*x-1)/(2*(5*y+2)) ==0   \n",
    "show(ode)"
   ]
  },
  {
   "cell_type": "code",
   "execution_count": 115,
   "metadata": {},
   "outputs": [
    {
     "data": {
      "text/html": [
       "<html><script type=\"math/tex; mode=display\">\\newcommand{\\Bold}[1]{\\mathbf{#1}}-5 \\, y\\left(x\\right)^{2} - 4 \\, y\\left(x\\right) = 3 \\, x^{2} - x - 186</script></html>"
      ],
      "text/plain": [
       "-5*y(x)^2 - 4*y(x) == 3*x^2 - x - 186"
      ]
     },
     "metadata": {},
     "output_type": "display_data"
    }
   ],
   "source": [
    "x0 = -3\n",
    "y0 = -6\n",
    "\n",
    "f = desolve (ode, y, ics = [x0, y0])\n",
    "show(f)"
   ]
  },
  {
   "cell_type": "markdown",
   "metadata": {},
   "source": [
    "F(x,y) = 0\n",
    "−5y^2 −4y -3x^2 +x +186=0\n",
    "\n",
    "2F(x,y) = 0\n",
    "−10y^2 −8y -6x^2 +2x +372=0\n",
    "\n",
    "g(-6, -10)\n",
    "\n",
    "F(-6, -10) = −5(-10)^2 −4(-10) -3(-6)^2 + (-6) + 186=0"
   ]
  },
  {
   "cell_type": "code",
   "execution_count": 118,
   "metadata": {},
   "outputs": [
    {
     "data": {
      "text/plain": [
       "-388"
      ]
     },
     "execution_count": 118,
     "metadata": {},
     "output_type": "execute_result"
    }
   ],
   "source": [
    "# F(-6, -10)\n",
    "\n",
    "z=5*(-1)*(-10)^2 +4*(-1)*(-10) -3*(-6)^2 + (-6) + 186\n",
    "z"
   ]
  },
  {
   "cell_type": "code",
   "execution_count": 125,
   "metadata": {},
   "outputs": [
    {
     "data": {
      "text/plain": [
       "38"
      ]
     },
     "execution_count": 125,
     "metadata": {},
     "output_type": "execute_result"
    }
   ],
   "source": [
    "# g(-4,4)\n",
    "w=5*(-1)*(4)^2 +4*(-1)*(4) -3*(-4)^2 + (-4) + 186\n",
    "w"
   ]
  },
  {
   "cell_type": "code",
   "execution_count": 126,
   "metadata": {},
   "outputs": [
    {
     "data": {
      "text/plain": [
       "-19/194"
      ]
     },
     "execution_count": 126,
     "metadata": {},
     "output_type": "execute_result"
    }
   ],
   "source": [
    "eval = w/z\n",
    "eval"
   ]
  },
  {
   "cell_type": "markdown",
   "metadata": {},
   "source": [
    "Resultado \n",
    "-0.097938"
   ]
  }
 ],
 "metadata": {
  "kernelspec": {
   "display_name": "SageMath 9.1",
   "language": "sage",
   "name": "sagemath"
  },
  "language_info": {
   "codemirror_mode": {
    "name": "ipython",
    "version": 2
   },
   "file_extension": ".py",
   "mimetype": "text/x-python",
   "name": "python",
   "nbconvert_exporter": "python",
   "pygments_lexer": "ipython2",
   "version": "2.7.15"
  }
 },
 "nbformat": 4,
 "nbformat_minor": 2
}
