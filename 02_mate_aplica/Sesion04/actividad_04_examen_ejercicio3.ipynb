{
 "cells": [
  {
   "cell_type": "markdown",
   "metadata": {},
   "source": [
    "#### Ejercicio 3\n",
    "\n",
    "$\\frac{dy}{dx} = -19(y - 62)y$\n",
    "\n",
    "$x_0 = 66$,     $y_0=\\frac{62.0000000000000}{28 \\, e^{\\left(-77748\\right)} + 1}$,  y(90)\n",
    "\n"
   ]
  },
  {
   "cell_type": "code",
   "execution_count": 1,
   "metadata": {},
   "outputs": [
    {
     "data": {
      "text/html": [
       "<html><script type=\"math/tex; mode=display\">\\newcommand{\\Bold}[1]{\\mathbf{#1}}\\frac{\\partial}{\\partial x}y\\left(x\\right) = -19 \\, {\\left(y\\left(x\\right) - 62\\right)} y\\left(x\\right)</script></html>"
      ],
      "text/plain": [
       "diff(y(x), x) == -19*(y(x) - 62)*y(x)"
      ]
     },
     "metadata": {},
     "output_type": "display_data"
    }
   ],
   "source": [
    "var('x')  #variable independiente\n",
    "y = function('y')(x) #variable dependiente\n",
    "\n",
    "ode = y.diff(x) == -19*(y -62)*y ==0   \n",
    "show(ode)"
   ]
  },
  {
   "cell_type": "code",
   "execution_count": 2,
   "metadata": {},
   "outputs": [
    {
     "data": {
      "text/html": [
       "<html><script type=\"math/tex; mode=display\">\\newcommand{\\Bold}[1]{\\mathbf{#1}}-\\frac{1}{1178} \\, \\log\\left(y\\left(x\\right) - 62\\right) + \\frac{1}{1178} \\, \\log\\left(y\\left(x\\right)\\right) = x + \\frac{1}{1178} \\, \\log\\left(\\frac{62 \\, e^{77748}}{e^{77748} + 28}\\right) - \\frac{1}{1178} \\, \\log\\left(-\\frac{1736}{e^{77748} + 28}\\right) - 66</script></html>"
      ],
      "text/plain": [
       "-1/1178*log(y(x) - 62) + 1/1178*log(y(x)) == x + 1/1178*log(62*e^77748/(e^77748 + 28)) - 1/1178*log(-1736/(e^77748 + 28)) - 66"
      ]
     },
     "metadata": {},
     "output_type": "display_data"
    }
   ],
   "source": [
    "x0 = 66\n",
    "y0 = 62.0000000000000 / (28*e^(-77748) +1)\n",
    "\n",
    "f = desolve (ode, y, ics = [x0, y0])\n",
    "show(f)"
   ]
  },
  {
   "cell_type": "code",
   "execution_count": 6,
   "metadata": {},
   "outputs": [
    {
     "data": {
      "text/plain": [
       "-1/1178*log(y(x) - 62) + 1/1178*log(y(x)) == x + 1/1178*log(62*e^77748/(e^77748 + 28)) - 1/1178*log(-1736/(e^77748 + 28)) - 66"
      ]
     },
     "execution_count": 6,
     "metadata": {},
     "output_type": "execute_result"
    }
   ],
   "source": [
    "f"
   ]
  },
  {
   "cell_type": "code",
   "execution_count": null,
   "metadata": {},
   "outputs": [],
   "source": []
  }
 ],
 "metadata": {
  "kernelspec": {
   "display_name": "SageMath 9.1",
   "language": "sage",
   "name": "sagemath"
  },
  "language_info": {
   "codemirror_mode": {
    "name": "ipython",
    "version": 2
   },
   "file_extension": ".py",
   "mimetype": "text/x-python",
   "name": "python",
   "nbconvert_exporter": "python",
   "pygments_lexer": "ipython2",
   "version": "2.7.15"
  }
 },
 "nbformat": 4,
 "nbformat_minor": 2
}
