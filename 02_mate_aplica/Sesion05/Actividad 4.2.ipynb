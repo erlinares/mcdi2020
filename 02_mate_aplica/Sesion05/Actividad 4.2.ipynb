{
 "cells": [
  {
   "cell_type": "markdown",
   "metadata": {},
   "source": [
    "### Ecuaciones diferenciales de segundo orden Página\n",
    "#### Examen\n"
   ]
  },
  {
   "cell_type": "markdown",
   "metadata": {},
   "source": [
    "#### Ejercicio 1\n",
    "Encuentre la solución $u(x)$ de la siguiente ecuación diferencial\n",
    "$4 \\, u\\left(x\\right) + \\frac{\\partial^{2}}{(\\partial x)^{2}}u\\left(x\\right) = 0$\n",
    "\n",
    "$u(0)=-1, \\; u'(0)=-1$\n",
    "\n",
    " y evalue en el punto dado:\n",
    " \n",
    " u(1.17)"
   ]
  },
  {
   "cell_type": "code",
   "execution_count": 86,
   "metadata": {},
   "outputs": [],
   "source": [
    "'''\n",
    "4y + y''   = 0\n",
    "'''\n",
    "var('x') #variable independiente\n",
    "y= function('y')(x) #variable dependiente"
   ]
  },
  {
   "cell_type": "code",
   "execution_count": 94,
   "metadata": {},
   "outputs": [
    {
     "data": {
      "text/html": [
       "<html><script type=\"math/tex; mode=display\">\\newcommand{\\Bold}[1]{\\mathbf{#1}}m^{2} + 4 = 0</script></html>"
      ],
      "text/plain": [
       "m^2 + 4 == 0"
      ]
     },
     "metadata": {},
     "output_type": "display_data"
    }
   ],
   "source": [
    "# ecuacion caracteristica\n",
    "var('m') # 'm' en lugar de lambda\n",
    "caracteristica = 4+m**2==0\n",
    "show(caracteristica)"
   ]
  },
  {
   "cell_type": "code",
   "execution_count": 95,
   "metadata": {},
   "outputs": [
    {
     "data": {
      "text/plain": [
       "[m == (-2*I), m == (2*I)]"
      ]
     },
     "execution_count": 95,
     "metadata": {},
     "output_type": "execute_result"
    }
   ],
   "source": [
    "solve(caracteristica,m)  #dos soluciones reales y diferentes"
   ]
  },
  {
   "cell_type": "code",
   "execution_count": 96,
   "metadata": {},
   "outputs": [
    {
     "data": {
      "text/html": [
       "<html><script type=\"math/tex; mode=display\">\\newcommand{\\Bold}[1]{\\mathbf{#1}}4 \\, y\\left(x\\right) + \\frac{\\partial^{2}}{(\\partial x)^{2}}y\\left(x\\right) = 0</script></html>"
      ],
      "text/plain": [
       "4*y(x) + diff(y(x), x, x) == 0"
      ]
     },
     "metadata": {},
     "output_type": "display_data"
    }
   ],
   "source": [
    "'''\n",
    "opción 2\n",
    "resolver de manera automática\n",
    "'''\n",
    "var('x') #variable independiente\n",
    "y= function('y')(x) #variable dependiente\n",
    "\n",
    "ode = 4*y+y.diff(x,2)==0\n",
    "show(ode)"
   ]
  },
  {
   "cell_type": "code",
   "execution_count": 97,
   "metadata": {},
   "outputs": [
    {
     "data": {
      "text/html": [
       "<html><script type=\"math/tex; mode=display\">\\newcommand{\\Bold}[1]{\\mathbf{#1}}K_{2} \\cos\\left(2 \\, x\\right) + K_{1} \\sin\\left(2 \\, x\\right)</script></html>"
      ],
      "text/plain": [
       "_K2*cos(2*x) + _K1*sin(2*x)"
      ]
     },
     "metadata": {},
     "output_type": "display_data"
    }
   ],
   "source": [
    "ff = desolve(ode,y)\n",
    "show(ff)"
   ]
  },
  {
   "cell_type": "code",
   "execution_count": 98,
   "metadata": {},
   "outputs": [
    {
     "data": {
      "text/html": [
       "<html><script type=\"math/tex; mode=display\">\\newcommand{\\Bold}[1]{\\mathbf{#1}}-\\cos\\left(2 \\, x\\right) - \\frac{1}{2} \\, \\sin\\left(2 \\, x\\right)</script></html>"
      ],
      "text/plain": [
       "-cos(2*x) - 1/2*sin(2*x)"
      ]
     },
     "metadata": {},
     "output_type": "display_data"
    }
   ],
   "source": [
    "## condiciones iniciales\n",
    "x0= 0\n",
    "y0 = -1\n",
    "y1 = -1\n",
    "\n",
    "condiciones = [x0, y0, y1]\n",
    "ff = desolve(ode,y, ics=condiciones)\n",
    "show(ff)"
   ]
  },
  {
   "cell_type": "code",
   "execution_count": 99,
   "metadata": {},
   "outputs": [
    {
     "data": {
      "text/plain": [
       "4*cos(2*x) + 2*sin(2*x) + 4"
      ]
     },
     "execution_count": 99,
     "metadata": {},
     "output_type": "execute_result"
    }
   ],
   "source": [
    "#comprobacion\n",
    "4+ff.diff(x,2)"
   ]
  },
  {
   "cell_type": "code",
   "execution_count": 100,
   "metadata": {},
   "outputs": [
    {
     "data": {
      "text/plain": [
       "0.336330929928339"
      ]
     },
     "execution_count": 100,
     "metadata": {},
     "output_type": "execute_result"
    }
   ],
   "source": [
    "ff(x=1.17)"
   ]
  },
  {
   "cell_type": "markdown",
   "metadata": {},
   "source": [
    "#### Ejercicio 2\n",
    "\n",
    "Encuentre la solución $u(x)$\n",
    "\n",
    "de la siguiente ecuación diferencial $2 \\, u\\left(x\\right) + 2 \\, \\frac{\\partial}{\\partial x}u\\left(x\\right) + \\frac{\\partial^{2}}{(\\partial x)^{2}}u\\left(x\\right) = -10 \\, x^{3}$\n",
    "\n",
    "con condiciones iniciales u(0)=−1,u′(0)=0\n",
    "\n",
    "y evalue en el punto dado:\n",
    "\n",
    "u(1.52)"
   ]
  },
  {
   "cell_type": "code",
   "execution_count": 52,
   "metadata": {},
   "outputs": [],
   "source": [
    "'''\n",
    "2y+2y'+y''  = -10**3\n",
    "'''\n",
    "var('x') #variable independiente\n",
    "y= function('y')(x) #variable dependiente"
   ]
  },
  {
   "cell_type": "code",
   "execution_count": 101,
   "metadata": {},
   "outputs": [
    {
     "data": {
      "text/html": [
       "<html><script type=\"math/tex; mode=display\">\\newcommand{\\Bold}[1]{\\mathbf{#1}}m^{2} + 2 \\, m + 2 \\, y\\left(x\\right) = -10 \\, x^{3}</script></html>"
      ],
      "text/plain": [
       "m^2 + 2*m + 2*y(x) == -10*x^3"
      ]
     },
     "metadata": {},
     "output_type": "display_data"
    }
   ],
   "source": [
    "# ecuacion caracteristica\n",
    "var('m') # 'm' en lugar de lambda\n",
    "caracteristica = 2*y+2*m+m**2==-10*x**3\n",
    "show(caracteristica)"
   ]
  },
  {
   "cell_type": "code",
   "execution_count": 102,
   "metadata": {},
   "outputs": [
    {
     "data": {
      "text/plain": [
       "[m == -sqrt(-10*x^3 - 2*y(x) + 1) - 1, m == sqrt(-10*x^3 - 2*y(x) + 1) - 1]"
      ]
     },
     "execution_count": 102,
     "metadata": {},
     "output_type": "execute_result"
    }
   ],
   "source": [
    "solve(caracteristica,m)"
   ]
  },
  {
   "cell_type": "code",
   "execution_count": 104,
   "metadata": {},
   "outputs": [
    {
     "data": {
      "text/html": [
       "<html><script type=\"math/tex; mode=display\">\\newcommand{\\Bold}[1]{\\mathbf{#1}}2 \\, y\\left(x\\right) + 2 \\, \\frac{\\partial}{\\partial x}y\\left(x\\right) + \\frac{\\partial^{2}}{(\\partial x)^{2}}y\\left(x\\right) = -10 \\, x^{3}</script></html>"
      ],
      "text/plain": [
       "2*y(x) + 2*diff(y(x), x) + diff(y(x), x, x) == -10*x^3"
      ]
     },
     "metadata": {},
     "output_type": "display_data"
    }
   ],
   "source": [
    "'''\n",
    "opción 2\n",
    "resolver de manera automática\n",
    "'''\n",
    "var('x') #variable independiente\n",
    "y= function('y')(x) #variable dependiente\n",
    "\n",
    "ode = 2*y+2*y.diff(x)+y.diff(x,2)== -10*x**3\n",
    "show(ode)"
   ]
  },
  {
   "cell_type": "code",
   "execution_count": 105,
   "metadata": {},
   "outputs": [
    {
     "data": {
      "text/html": [
       "<html><script type=\"math/tex; mode=display\">\\newcommand{\\Bold}[1]{\\mathbf{#1}}-5 \\, x^{3} + 15 \\, x^{2} + {\\left(K_{2} \\cos\\left(x\\right) + K_{1} \\sin\\left(x\\right)\\right)} e^{\\left(-x\\right)} - 15 \\, x</script></html>"
      ],
      "text/plain": [
       "-5*x^3 + 15*x^2 + (_K2*cos(x) + _K1*sin(x))*e^(-x) - 15*x"
      ]
     },
     "metadata": {},
     "output_type": "display_data"
    }
   ],
   "source": [
    "ff = desolve(ode,y)\n",
    "show(ff)"
   ]
  },
  {
   "cell_type": "code",
   "execution_count": 106,
   "metadata": {},
   "outputs": [
    {
     "data": {
      "text/html": [
       "<html><script type=\"math/tex; mode=display\">\\newcommand{\\Bold}[1]{\\mathbf{#1}}-5 \\, x^{3} + 15 \\, x^{2} - {\\left(\\cos\\left(x\\right) - 14 \\, \\sin\\left(x\\right)\\right)} e^{\\left(-x\\right)} - 15 \\, x</script></html>"
      ],
      "text/plain": [
       "-5*x^3 + 15*x^2 - (cos(x) - 14*sin(x))*e^(-x) - 15*x"
      ]
     },
     "metadata": {},
     "output_type": "display_data"
    }
   ],
   "source": [
    "## condiciones iniciales\n",
    "x0= 0\n",
    "y0 = -1\n",
    "y1 = -0\n",
    "\n",
    "condiciones = [x0, y0, y1]\n",
    "ff = desolve(ode,y, ics=condiciones)\n",
    "show(ff)"
   ]
  },
  {
   "cell_type": "code",
   "execution_count": 107,
   "metadata": {},
   "outputs": [
    {
     "data": {
      "text/plain": [
       "-2.65612806190781"
      ]
     },
     "execution_count": 107,
     "metadata": {},
     "output_type": "execute_result"
    }
   ],
   "source": [
    "ff(x=1.52)"
   ]
  },
  {
   "cell_type": "markdown",
   "metadata": {},
   "source": [
    "#### Ejercicio 3\n",
    "\n",
    "Encuentre la solución $u(x)$\n",
    "\n",
    "de la siguiente ecuación diferencial $2 \\, u\\left(x\\right) + \\frac{\\partial^{2}}{(\\partial x)^{2}}u\\left(x\\right) = -8 \\, e^{\\left(-4 \\, x\\right)}$\n",
    "con condiciones iniciales u(0)=0,u′(0)=1\n",
    "\n",
    "y evalue en el punto dado:\n",
    "\n",
    "u(1.72) "
   ]
  },
  {
   "cell_type": "code",
   "execution_count": 109,
   "metadata": {},
   "outputs": [],
   "source": [
    "'''\n",
    "2y+y'' = -8*e**(-4*x)\n",
    "'''\n",
    "var('x') #variable independiente\n",
    "y= function('y')(x) #variable dependiente"
   ]
  },
  {
   "cell_type": "code",
   "execution_count": 110,
   "metadata": {},
   "outputs": [
    {
     "data": {
      "text/html": [
       "<html><script type=\"math/tex; mode=display\">\\newcommand{\\Bold}[1]{\\mathbf{#1}}m^{2} + 2 \\, y\\left(x\\right) = -8 \\, e^{\\left(-4 \\, x\\right)}</script></html>"
      ],
      "text/plain": [
       "m^2 + 2*y(x) == -8*e^(-4*x)"
      ]
     },
     "metadata": {},
     "output_type": "display_data"
    }
   ],
   "source": [
    "# ecuacion caracteristica\n",
    "var('m') # 'm' en lugar de lambda\n",
    "caracteristica = 2*y+m**2==-8*e**(-4*x)\n",
    "show(caracteristica)"
   ]
  },
  {
   "cell_type": "code",
   "execution_count": 111,
   "metadata": {},
   "outputs": [
    {
     "data": {
      "text/plain": [
       "[m == -sqrt(-2*e^(4*x)*y(x) - 8)*e^(-2*x), m == sqrt(-2*e^(4*x)*y(x) - 8)*e^(-2*x)]"
      ]
     },
     "execution_count": 111,
     "metadata": {},
     "output_type": "execute_result"
    }
   ],
   "source": [
    "solve(caracteristica,m)"
   ]
  },
  {
   "cell_type": "code",
   "execution_count": 112,
   "metadata": {},
   "outputs": [
    {
     "data": {
      "text/html": [
       "<html><script type=\"math/tex; mode=display\">\\newcommand{\\Bold}[1]{\\mathbf{#1}}2 \\, y\\left(x\\right) + \\frac{\\partial^{2}}{(\\partial x)^{2}}y\\left(x\\right) = -8 \\, e^{\\left(-4 \\, x\\right)}</script></html>"
      ],
      "text/plain": [
       "2*y(x) + diff(y(x), x, x) == -8*e^(-4*x)"
      ]
     },
     "metadata": {},
     "output_type": "display_data"
    }
   ],
   "source": [
    "'''\n",
    "opción 2\n",
    "resolver de manera automática\n",
    "'''\n",
    "var('x') #variable independiente\n",
    "y= function('y')(x) #variable dependiente\n",
    "\n",
    "ode = 2*y+y.diff(x,2)== -8*e**(-4*x)\n",
    "show(ode)"
   ]
  },
  {
   "cell_type": "code",
   "execution_count": 113,
   "metadata": {},
   "outputs": [
    {
     "data": {
      "text/html": [
       "<html><script type=\"math/tex; mode=display\">\\newcommand{\\Bold}[1]{\\mathbf{#1}}K_{2} \\cos\\left(\\sqrt{2} x\\right) + K_{1} \\sin\\left(\\sqrt{2} x\\right) - \\frac{4}{9} \\, e^{\\left(-4 \\, x\\right)}</script></html>"
      ],
      "text/plain": [
       "_K2*cos(sqrt(2)*x) + _K1*sin(sqrt(2)*x) - 4/9*e^(-4*x)"
      ]
     },
     "metadata": {},
     "output_type": "display_data"
    }
   ],
   "source": [
    "ff = desolve(ode,y)\n",
    "show(ff)"
   ]
  },
  {
   "cell_type": "code",
   "execution_count": 114,
   "metadata": {},
   "outputs": [
    {
     "data": {
      "text/html": [
       "<html><script type=\"math/tex; mode=display\">\\newcommand{\\Bold}[1]{\\mathbf{#1}}-\\frac{7}{18} \\, \\sqrt{2} \\sin\\left(\\sqrt{2} x\\right) + \\frac{4}{9} \\, \\cos\\left(\\sqrt{2} x\\right) - \\frac{4}{9} \\, e^{\\left(-4 \\, x\\right)}</script></html>"
      ],
      "text/plain": [
       "-7/18*sqrt(2)*sin(sqrt(2)*x) + 4/9*cos(sqrt(2)*x) - 4/9*e^(-4*x)"
      ]
     },
     "metadata": {},
     "output_type": "display_data"
    }
   ],
   "source": [
    "## condiciones iniciales\n",
    "x0= 0\n",
    "y0 = 0\n",
    "y1 = 1\n",
    "\n",
    "condiciones = [x0, y0, y1]\n",
    "ff = desolve(ode,y, ics=condiciones)\n",
    "show(ff)"
   ]
  },
  {
   "cell_type": "code",
   "execution_count": 115,
   "metadata": {},
   "outputs": [
    {
     "data": {
      "text/plain": [
       "-7/18*sqrt(2)*sin(1.72000000000000*sqrt(2)) + 4/9*cos(1.72000000000000*sqrt(2)) - 0.000456952908966547"
      ]
     },
     "execution_count": 115,
     "metadata": {},
     "output_type": "execute_result"
    }
   ],
   "source": [
    "ff(x=1.72)"
   ]
  },
  {
   "cell_type": "code",
   "execution_count": 116,
   "metadata": {},
   "outputs": [
    {
     "name": "stdout",
     "output_type": "stream",
     "text": [
      "-0.695887842675328\n"
     ]
    }
   ],
   "source": [
    "#se mete el valor en wolframalpha.com\n",
    "\n",
    "#https://www.wolframalpha.com/input/?i=-7%2F18*sqrt%282%29*sin%281.72000000000000*sqrt%282%29%29+%2B+4%2F9*cos%281.72000000000000*sqrt%282%29%29+-+0.000456952908966547\n",
    "\n",
    "print(-0.695887842675328)"
   ]
  },
  {
   "cell_type": "markdown",
   "metadata": {},
   "source": [
    "#### Ejercicio 4\n",
    "\n",
    "Encuentre la solución $u(x)$\n",
    "\n",
    "de la siguiente ecuación diferencial $-u\\left(x\\right) + \\frac{\\partial^{2}}{(\\partial x)^{2}}u\\left(x\\right) = -3 \\, \\cos\\left(2 \\, x\\right)$\n",
    "con condiciones iniciales u(0)=1,u′(0)=1\n",
    "\n",
    "y evalue en el punto dado:\n",
    "\n",
    " u(0.01)"
   ]
  },
  {
   "cell_type": "code",
   "execution_count": 117,
   "metadata": {},
   "outputs": [],
   "source": [
    "'''\n",
    "-y + y'' = -3cos(2*x)\n",
    "'''\n",
    "var('x') #variable independiente\n",
    "y= function('y')(x) #variable dependiente"
   ]
  },
  {
   "cell_type": "code",
   "execution_count": 119,
   "metadata": {},
   "outputs": [
    {
     "data": {
      "text/html": [
       "<html><script type=\"math/tex; mode=display\">\\newcommand{\\Bold}[1]{\\mathbf{#1}}m^{2} - y\\left(x\\right) = -3 \\, \\cos\\left(2 \\, x\\right)</script></html>"
      ],
      "text/plain": [
       "m^2 - y(x) == -3*cos(2*x)"
      ]
     },
     "metadata": {},
     "output_type": "display_data"
    }
   ],
   "source": [
    "# ecuacion caracteristica\n",
    "var('m') # 'm' en lugar de lambda\n",
    "caracteristica = -y+m**2==-3*cos(2*x)\n",
    "show(caracteristica)"
   ]
  },
  {
   "cell_type": "code",
   "execution_count": 120,
   "metadata": {},
   "outputs": [
    {
     "data": {
      "text/plain": [
       "[m == -sqrt(-3*cos(2*x) + y(x)), m == sqrt(-3*cos(2*x) + y(x))]"
      ]
     },
     "execution_count": 120,
     "metadata": {},
     "output_type": "execute_result"
    }
   ],
   "source": [
    "solve(caracteristica,m)"
   ]
  },
  {
   "cell_type": "code",
   "execution_count": 121,
   "metadata": {},
   "outputs": [
    {
     "data": {
      "text/html": [
       "<html><script type=\"math/tex; mode=display\">\\newcommand{\\Bold}[1]{\\mathbf{#1}}-y\\left(x\\right) + \\frac{\\partial^{2}}{(\\partial x)^{2}}y\\left(x\\right) = 3 \\, \\cos\\left(2 \\, x\\right)</script></html>"
      ],
      "text/plain": [
       "-y(x) + diff(y(x), x, x) == 3*cos(2*x)"
      ]
     },
     "metadata": {},
     "output_type": "display_data"
    }
   ],
   "source": [
    "'''\n",
    "opción 2\n",
    "resolver de manera automática\n",
    "'''\n",
    "var('x') #variable independiente\n",
    "y= function('y')(x) #variable dependiente\n",
    "\n",
    "ode = -y+y.diff(x,2)== 3*cos(2*x)\n",
    "show(ode)"
   ]
  },
  {
   "cell_type": "code",
   "execution_count": 122,
   "metadata": {},
   "outputs": [
    {
     "data": {
      "text/html": [
       "<html><script type=\"math/tex; mode=display\">\\newcommand{\\Bold}[1]{\\mathbf{#1}}K_{2} e^{\\left(-x\\right)} + K_{1} e^{x} - \\frac{3}{5} \\, \\cos\\left(2 \\, x\\right)</script></html>"
      ],
      "text/plain": [
       "_K2*e^(-x) + _K1*e^x - 3/5*cos(2*x)"
      ]
     },
     "metadata": {},
     "output_type": "display_data"
    }
   ],
   "source": [
    "ff = desolve(ode,y)\n",
    "show(ff)"
   ]
  },
  {
   "cell_type": "code",
   "execution_count": 123,
   "metadata": {},
   "outputs": [
    {
     "data": {
      "text/html": [
       "<html><script type=\"math/tex; mode=display\">\\newcommand{\\Bold}[1]{\\mathbf{#1}}-\\frac{3}{5} \\, \\cos\\left(2 \\, x\\right) + \\frac{3}{10} \\, e^{\\left(-x\\right)} + \\frac{13}{10} \\, e^{x}</script></html>"
      ],
      "text/plain": [
       "-3/5*cos(2*x) + 3/10*e^(-x) + 13/10*e^x"
      ]
     },
     "metadata": {},
     "output_type": "display_data"
    }
   ],
   "source": [
    "## condiciones iniciales\n",
    "x0= 0\n",
    "y0 = 1\n",
    "y1 = 1\n",
    "\n",
    "condiciones = [x0, y0, y1]\n",
    "ff = desolve(ode,y, ics=condiciones)\n",
    "show(ff)"
   ]
  },
  {
   "cell_type": "code",
   "execution_count": 124,
   "metadata": {},
   "outputs": [
    {
     "data": {
      "text/plain": [
       "1.01020016333422"
      ]
     },
     "execution_count": 124,
     "metadata": {},
     "output_type": "execute_result"
    }
   ],
   "source": [
    "ff(x=0.01)"
   ]
  },
  {
   "cell_type": "markdown",
   "metadata": {},
   "source": [
    "#### Ejercicio 5\n",
    "\n",
    "Encuentre la solución $u(x)$\n",
    "\n",
    "de la siguiente ecuación diferencial $4 \\, u\\left(x\\right) - 2 \\, \\frac{\\partial}{\\partial x}u\\left(x\\right) + \\frac{\\partial^{2}}{(\\partial x)^{2}}u\\left(x\\right) = -10 \\, e^{\\left(-x\\right)} \\sin\\left(2 \\, x\\right)$\n",
    "con condiciones iniciales u(0)=−1,u′(0)=1\n",
    "\n",
    "y evalue en el punto dado:\n",
    "\n",
    "u(0.2)"
   ]
  },
  {
   "cell_type": "code",
   "execution_count": 146,
   "metadata": {},
   "outputs": [],
   "source": [
    "'''\n",
    "4y -2y'+y'' = -10*e**(-x)*sin(2*x)\n",
    "'''\n",
    "var('x') #variable independiente\n",
    "y= function('y')(x) #variable dependiente"
   ]
  },
  {
   "cell_type": "code",
   "execution_count": 149,
   "metadata": {},
   "outputs": [
    {
     "data": {
      "text/html": [
       "<html><script type=\"math/tex; mode=display\">\\newcommand{\\Bold}[1]{\\mathbf{#1}}m^{2} - 2 \\, m + 4 \\, y\\left(x\\right) = -10 \\, e^{\\left(-x\\right)} \\sin\\left(2 \\, x\\right)</script></html>"
      ],
      "text/plain": [
       "m^2 - 2*m + 4*y(x) == -10*e^(-x)*sin(2*x)"
      ]
     },
     "metadata": {},
     "output_type": "display_data"
    }
   ],
   "source": [
    "# ecuacion caracteristica\n",
    "var('m') # 'm' en lugar de lambda\n",
    "caracteristica = 4*y-2*m+m**2==(-10*e**(-x))*sin(2*x)\n",
    "show(caracteristica)"
   ]
  },
  {
   "cell_type": "code",
   "execution_count": 150,
   "metadata": {},
   "outputs": [
    {
     "data": {
      "text/plain": [
       "[m == -(sqrt(-10*e^x*sin(2*x) - 4*e^(2*x)*y(x) + e^(2*x)) - e^x)*e^(-x), m == (sqrt(-10*e^x*sin(2*x) - 4*e^(2*x)*y(x) + e^(2*x)) + e^x)*e^(-x)]"
      ]
     },
     "execution_count": 150,
     "metadata": {},
     "output_type": "execute_result"
    }
   ],
   "source": [
    "solve(caracteristica,m)"
   ]
  },
  {
   "cell_type": "code",
   "execution_count": 173,
   "metadata": {},
   "outputs": [
    {
     "data": {
      "text/html": [
       "<html><script type=\"math/tex; mode=display\">\\newcommand{\\Bold}[1]{\\mathbf{#1}}4 \\, y\\left(x\\right) - 2 \\, \\frac{\\partial}{\\partial x}y\\left(x\\right) + \\frac{\\partial^{2}}{(\\partial x)^{2}}y\\left(x\\right) = -10 \\, e^{\\left(-x\\right)} \\sin\\left(2 \\, x\\right)</script></html>"
      ],
      "text/plain": [
       "4*y(x) - 2*diff(y(x), x) + diff(y(x), x, x) == -10*e^(-x)*sin(2*x)"
      ]
     },
     "metadata": {},
     "output_type": "display_data"
    }
   ],
   "source": [
    "'''\n",
    "opción 2\n",
    "resolver de manera automática\n",
    "'''\n",
    "var('x') #variable independiente\n",
    "y= function('y')(x) #variable dependiente\n",
    "\n",
    "ode = 4*y-2*y.diff(x)+y.diff(x,2)== -10*e**(-x)*sin(2*x)\n",
    "show(ode)"
   ]
  },
  {
   "cell_type": "code",
   "execution_count": 174,
   "metadata": {},
   "outputs": [
    {
     "data": {
      "text/html": [
       "<html><script type=\"math/tex; mode=display\">\\newcommand{\\Bold}[1]{\\mathbf{#1}}-\\frac{10}{73} \\, {\\left(8 \\, \\cos\\left(2 \\, x\\right) + 3 \\, \\sin\\left(2 \\, x\\right)\\right)} e^{\\left(-x\\right)} + {\\left(K_{2} \\cos\\left(\\sqrt{3} x\\right) + K_{1} \\sin\\left(\\sqrt{3} x\\right)\\right)} e^{x}</script></html>"
      ],
      "text/plain": [
       "-10/73*(8*cos(2*x) + 3*sin(2*x))*e^(-x) + (_K2*cos(sqrt(3)*x) + _K1*sin(sqrt(3)*x))*e^x"
      ]
     },
     "metadata": {},
     "output_type": "display_data"
    }
   ],
   "source": [
    "ff = desolve(ode,y)\n",
    "show(ff)"
   ]
  },
  {
   "cell_type": "code",
   "execution_count": 177,
   "metadata": {},
   "outputs": [
    {
     "data": {
      "text/html": [
       "<html><script type=\"math/tex; mode=display\">\\newcommand{\\Bold}[1]{\\mathbf{#1}}-\\frac{10}{73} \\, {\\left(8 \\, \\cos\\left(2 \\, x\\right) + 3 \\, \\sin\\left(2 \\, x\\right)\\right)} e^{\\left(-x\\right)} + \\frac{1}{219} \\, {\\left(46 \\, \\sqrt{3} \\sin\\left(\\sqrt{3} x\\right) + 21 \\, \\cos\\left(\\sqrt{3} x\\right)\\right)} e^{x}</script></html>"
      ],
      "text/plain": [
       "-10/73*(8*cos(2*x) + 3*sin(2*x))*e^(-x) + 1/219*(46*sqrt(3)*sin(sqrt(3)*x) + 21*cos(sqrt(3)*x))*e^x"
      ]
     },
     "metadata": {},
     "output_type": "display_data"
    }
   ],
   "source": [
    "## condiciones iniciales\n",
    "x0= 0\n",
    "y0 = -1\n",
    "y1 = 1\n",
    "\n",
    "condiciones = [x0, y0, y1]\n",
    "ff = desolve_laplace(ode,y, ics=condiciones)\n",
    "show(ff)"
   ]
  },
  {
   "cell_type": "code",
   "execution_count": 178,
   "metadata": {},
   "outputs": [
    {
     "data": {
      "text/plain": [
       "0.256550351029077*sqrt(3)*sin(0.200000000000000*sqrt(3)) + 0.117120812426318*cos(0.200000000000000*sqrt(3)) - 0.957437535340838"
      ]
     },
     "execution_count": 178,
     "metadata": {},
     "output_type": "execute_result"
    }
   ],
   "source": [
    "ff(x=0.2)"
   ]
  },
  {
   "cell_type": "code",
   "execution_count": 179,
   "metadata": {},
   "outputs": [
    {
     "name": "stdout",
     "output_type": "stream",
     "text": [
      "-0.696403954318896\n"
     ]
    }
   ],
   "source": [
    "#se mete el valor en wolframalpha.com\n",
    "\n",
    "#https://www.wolframalpha.com/input/?i=0.256550351029077*sqrt%283%29*sin%280.200000000000000*sqrt%283%29%29+%2B+0.117120812426318*cos%280.200000000000000*sqrt%283%29%29+-+0.957437535340838\n",
    "\n",
    "print(-0.696403954318896)"
   ]
  }
 ],
 "metadata": {
  "kernelspec": {
   "display_name": "SageMath 9.1",
   "language": "sage",
   "name": "sagemath"
  },
  "language_info": {
   "codemirror_mode": {
    "name": "ipython",
    "version": 2
   },
   "file_extension": ".py",
   "mimetype": "text/x-python",
   "name": "python",
   "nbconvert_exporter": "python",
   "pygments_lexer": "ipython2",
   "version": "2.7.15"
  }
 },
 "nbformat": 4,
 "nbformat_minor": 2
}
